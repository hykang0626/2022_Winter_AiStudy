{
 "cells": [
  {
   "cell_type": "code",
   "execution_count": 1,
   "id": "2e49837f",
   "metadata": {},
   "outputs": [],
   "source": [
    "import numpy as np\n",
    "\n",
    "#데이터 정리\n",
    "data = [[3, 5508], [5, 2984], [7, 2446], [9, 2906]]\n",
    "\n",
    "x = [i[0] for i in data]\n",
    "y = [i[1] for i in data]"
   ]
  },
  {
   "cell_type": "code",
   "execution_count": 2,
   "id": "6f0a8e30",
   "metadata": {},
   "outputs": [],
   "source": [
    "# 예측 값\n",
    "s_set = [-400, 7000]\n",
    "m_set = [-420, 6000]"
   ]
  },
  {
   "cell_type": "code",
   "execution_count": 3,
   "id": "c6ef2df4",
   "metadata": {},
   "outputs": [],
   "source": [
    "# y = ax + b 형태\n",
    "def predict(set, x):\n",
    "    return set[0]*x + set[1]"
   ]
  },
  {
   "cell_type": "code",
   "execution_count": 4,
   "id": "af03781d",
   "metadata": {},
   "outputs": [],
   "source": [
    "# MSE 함수\n",
    "def mse(y, y_hat):\n",
    "    return ((y - y_hat) ** 2).mean()\n",
    "\n",
    "# MSE 함수를 각 y값에 대입하여 최종 값을 구하는 함수\n",
    "def mse_val(predict_result,y):\n",
    "    return mse(np.array(predict_result), np.array(y))"
   ]
  },
  {
   "cell_type": "code",
   "execution_count": 5,
   "id": "d4e78bfd",
   "metadata": {},
   "outputs": [],
   "source": [
    "predict_res_s = []\n",
    "predict_res_m = []"
   ]
  },
  {
   "cell_type": "code",
   "execution_count": 14,
   "id": "1fdc5736",
   "metadata": {},
   "outputs": [
    {
     "name": "stdout",
     "output_type": "stream",
     "text": [
      "S: 월: 3, 실제 정보량: 5508, 예측점수=5800\n",
      "M: 월: 3, 실제 정보량: 5508, 예측점수=4740\n",
      "S: 월: 5, 실제 정보량: 2984, 예측점수=5000\n",
      "M: 월: 5, 실제 정보량: 2984, 예측점수=3900\n",
      "S: 월: 7, 실제 정보량: 2446, 예측점수=4200\n",
      "M: 월: 7, 실제 정보량: 2446, 예측점수=3060\n",
      "S: 월: 9, 실제 정보량: 2906, 예측점수=3400\n",
      "M: 월: 9, 실제 정보량: 2906, 예측점수=2220\n"
     ]
    }
   ],
   "source": [
    "for i in range(len(x)):\n",
    "    predict_res_s.append(predict(s_set, x[i]))\n",
    "    predict_res_m.append(predict(m_set, x[i]))\n",
    "    print(\"S: 월: %d, 실제 정보량: %.f, 예측값=%.f\" % (x[i], y[i], predict(s_set, x[i])))\n",
    "    print(\"M: 월: %d, 실제 정보량: %.f, 예측값=%.f\" % (x[i], y[i], predict(m_set, x[i])))"
   ]
  },
  {
   "cell_type": "code",
   "execution_count": 8,
   "id": "20780589",
   "metadata": {},
   "outputs": [
    {
     "name": "stdout",
     "output_type": "stream",
     "text": [
      "스클의 MSE 최종값: 1867518.0\n",
      "마클의 MSE 최종값: 569118.0\n"
     ]
    }
   ],
   "source": [
    "print(\"스클의 MSE 최종값: \" + str(mse_val(predict_res_s, y)))\n",
    "print(\"마클의 MSE 최종값: \" + str(mse_val(predict_res_m, y)))"
   ]
  },
  {
   "cell_type": "code",
   "execution_count": 9,
   "id": "3c3d0a25",
   "metadata": {},
   "outputs": [],
   "source": [
    "# 최소 제곱법 구하기"
   ]
  },
  {
   "cell_type": "code",
   "execution_count": 10,
   "id": "4280203a",
   "metadata": {},
   "outputs": [],
   "source": [
    "# 평균 구하기\n",
    "mx = np.mean(x)\n",
    "my = np.mean(y)"
   ]
  },
  {
   "cell_type": "code",
   "execution_count": 11,
   "id": "f5d6c156",
   "metadata": {},
   "outputs": [],
   "source": [
    "# 분모\n",
    "divisor = sum([(mx - i)**2 for i in x])\n",
    "\n",
    "# 분자\n",
    "def top(x, y, mx, my):\n",
    "    d = 0\n",
    "    for i in range(len(x)):\n",
    "        d += (x[i] - mx) * (y[i] - my)\n",
    "    return d\n",
    "dividend = top(x, y, mx, my)"
   ]
  },
  {
   "cell_type": "code",
   "execution_count": 12,
   "id": "a0b8df38",
   "metadata": {},
   "outputs": [],
   "source": [
    "# 기울기와 y 절편 구하기\n",
    "a = dividend / divisor\n",
    "b = my - (mx * a)"
   ]
  },
  {
   "cell_type": "code",
   "execution_count": 13,
   "id": "a06e8d27",
   "metadata": {},
   "outputs": [
    {
     "name": "stdout",
     "output_type": "stream",
     "text": [
      "기울기 a =  -417.2\n",
      "y 절편 b =  5964.2\n"
     ]
    }
   ],
   "source": [
    "print(\"기울기 a = \", a)\n",
    "print(\"y 절편 b = \", b)"
   ]
  },
  {
   "cell_type": "code",
   "execution_count": null,
   "id": "b0c79fe2",
   "metadata": {},
   "outputs": [],
   "source": []
  }
 ],
 "metadata": {
  "kernelspec": {
   "display_name": "Python 3",
   "language": "python",
   "name": "python3"
  },
  "language_info": {
   "codemirror_mode": {
    "name": "ipython",
    "version": 3
   },
   "file_extension": ".py",
   "mimetype": "text/x-python",
   "name": "python",
   "nbconvert_exporter": "python",
   "pygments_lexer": "ipython3",
   "version": "3.8.8"
  }
 },
 "nbformat": 4,
 "nbformat_minor": 5
}
