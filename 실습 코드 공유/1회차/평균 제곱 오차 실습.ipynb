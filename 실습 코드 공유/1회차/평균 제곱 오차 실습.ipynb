{
 "cells": [
  {
   "cell_type": "code",
   "execution_count": 11,
   "id": "4514052b",
   "metadata": {},
   "outputs": [],
   "source": [
    "import numpy as np"
   ]
  },
  {
   "cell_type": "code",
   "execution_count": 12,
   "id": "8d13d5f5",
   "metadata": {},
   "outputs": [],
   "source": [
    "# 임의의 방정식 선언\n",
    "# y = 3x + 76\n",
    "fake_a_b = [3,76]\n",
    "real_a_b = [2.3,79]"
   ]
  },
  {
   "cell_type": "code",
   "execution_count": 13,
   "id": "a17d65b1",
   "metadata": {},
   "outputs": [],
   "source": [
    "# 데이터 리스트 선언 data = [[x,y], ...]\n",
    "data = [[2,81],[4,93],[6,91],[8,97]]\n",
    "# x와 y 리스트 선언\n",
    "x = [i[0] for i in data]\n",
    "y = [i[1] for i in data]"
   ]
  },
  {
   "cell_type": "code",
   "execution_count": 14,
   "id": "12825292",
   "metadata": {},
   "outputs": [],
   "source": [
    "# 일차 방정식 y = ax + b 구현\n",
    "def predict(x):\n",
    "    return fake_a_b[0]*x + fake_a_b[1]\n"
   ]
  },
  {
   "cell_type": "code",
   "execution_count": 15,
   "id": "d0848bca",
   "metadata": {},
   "outputs": [],
   "source": [
    "# 평균 제곱 오차 계산 함수 정의\n",
    "def mse(y,y_hat):\n",
    "    return (((y-y_hat) ** 2).mean())"
   ]
  },
  {
   "cell_type": "code",
   "execution_count": 16,
   "id": "eb766c9e",
   "metadata": {},
   "outputs": [],
   "source": [
    "# 최종값을 구하는 mse_val() 함수 정의\n",
    "def mse_val(y,predict_result):\n",
    "    return mse(np.array(y),np.array(predict_result))"
   ]
  },
  {
   "cell_type": "code",
   "execution_count": 17,
   "id": "4a3da128",
   "metadata": {},
   "outputs": [],
   "source": [
    "# 예측 값이 들어갈 빈 리스트\n",
    "predict_result = []"
   ]
  },
  {
   "cell_type": "code",
   "execution_count": 18,
   "id": "724d9ab0",
   "metadata": {},
   "outputs": [
    {
     "name": "stdout",
     "output_type": "stream",
     "text": [
      "공부시간=2, 실제 점수=81, 예측 점수=82\n",
      "공부시간=4, 실제 점수=93, 예측 점수=88\n",
      "공부시간=6, 실제 점수=91, 예측 점수=94\n",
      "공부시간=8, 실제 점수=97, 예측 점수=100\n"
     ]
    }
   ],
   "source": [
    "# 모든 x의 값을 한 번씩 대입 => predict_result 리스트 완성\n",
    "for i in range(len(x)):\n",
    "    predict_result.append(predict(x[i]))\n",
    "    print(\"공부시간=%.f, 실제 점수=%.f, 예측 점수=%.f\" %(x[i],y[i],predict(x[i])))"
   ]
  },
  {
   "cell_type": "code",
   "execution_count": 19,
   "id": "f355db61",
   "metadata": {},
   "outputs": [
    {
     "name": "stdout",
     "output_type": "stream",
     "text": [
      "mse 최종값: 11.0\n"
     ]
    }
   ],
   "source": [
    "# 최종 MSE 출력\n",
    "print(\"mse 최종값: \"+ str(mse_val(predict_result,y)))"
   ]
  }
 ],
 "metadata": {
  "kernelspec": {
   "display_name": "Python 3",
   "language": "python",
   "name": "python3"
  },
  "language_info": {
   "codemirror_mode": {
    "name": "ipython",
    "version": 3
   },
   "file_extension": ".py",
   "mimetype": "text/x-python",
   "name": "python",
   "nbconvert_exporter": "python",
   "pygments_lexer": "ipython3",
   "version": "3.8.8"
  }
 },
 "nbformat": 4,
 "nbformat_minor": 5
}
