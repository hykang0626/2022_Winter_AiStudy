{
  "nbformat": 4,
  "nbformat_minor": 0,
  "metadata": {
    "colab": {
      "name": "스클마클.ipynb",
      "provenance": [],
      "authorship_tag": "ABX9TyORt04vjuvS9ExjQCGttxfE",
      "include_colab_link": true
    },
    "kernelspec": {
      "name": "python3",
      "display_name": "Python 3"
    },
    "language_info": {
      "name": "python"
    }
  },
  "cells": [
    {
      "cell_type": "markdown",
      "metadata": {
        "id": "view-in-github",
        "colab_type": "text"
      },
      "source": [
        "<a href=\"https://colab.research.google.com/github/RyuJungSoo/2022_winter_ai_study/blob/main/%EC%8A%A4%ED%81%B4%EB%A7%88%ED%81%B4.ipynb\" target=\"_parent\"><img src=\"https://colab.research.google.com/assets/colab-badge.svg\" alt=\"Open In Colab\"/></a>"
      ]
    },
    {
      "cell_type": "code",
      "source": [
        "import numpy as np\n",
        "\n",
        "# 기울기 a와 y 절편 b\n",
        "scle = [-400, 7000]\n",
        "macle = [-420, 6000]"
      ],
      "metadata": {
        "id": "OcHt2N99-irY"
      },
      "execution_count": 5,
      "outputs": []
    },
    {
      "cell_type": "code",
      "source": [
        "# x, y의 데이터 값\n",
        "x = [3,5,7,9]\n",
        "y=[5508,2984,2446,2906]"
      ],
      "metadata": {
        "id": "0YHMl0cE_Mdf"
      },
      "execution_count": 6,
      "outputs": []
    },
    {
      "cell_type": "code",
      "source": [
        "# 각 예측값을 출력하는 함수\n",
        "def scle_predict(x):\n",
        "  return scle[0] * x + scle[1]\n",
        "def macle_predict(x):\n",
        "  return macle[0] * x + macle[1] "
      ],
      "metadata": {
        "id": "4xV8sIX5F1Kn"
      },
      "execution_count": 7,
      "outputs": []
    },
    {
      "cell_type": "code",
      "source": [
        "# mse 함수\n",
        "def mse(y, y_hat):\n",
        "  return ((y-y_hat)**2).mean()"
      ],
      "metadata": {
        "id": "bNAapUOlGSPH"
      },
      "execution_count": 8,
      "outputs": []
    },
    {
      "cell_type": "code",
      "source": [
        "# mse 함수를 각 y값에 대입하여 최종 값을 구하는 함수\n",
        "def scle_val(y, scle_predict_result):\n",
        "  return mse(np.array(y), np.array(scle_predict_result))\n",
        "\n",
        "def macle_val(y, macle_predict_result):\n",
        "  return mse(np.array(y), np.array(macle_predict_result))"
      ],
      "metadata": {
        "id": "vzY4lcRwGqzZ"
      },
      "execution_count": 9,
      "outputs": []
    },
    {
      "cell_type": "code",
      "source": [
        "# 예측 값이 들어갈 빈 리스트\n",
        "scle_predict_result = []\n",
        "macle_predict_result = []"
      ],
      "metadata": {
        "id": "qZVhI-jLHDut"
      },
      "execution_count": 10,
      "outputs": []
    },
    {
      "cell_type": "code",
      "source": [
        "for i in range(len(x)):\n",
        "  scle_predict_result.append(scle_predict(x[i]))\n",
        "  macle_predict_result.append(macle_predict(x[i]))\n",
        "  print(\"월: %d, 실제 정보량: %.f, 스클 예측값: %.f, 마클 예측값: %.f\" %(x[i],y[i],scle_predict(x[i]), macle_predict(x[i])))\n"
      ],
      "metadata": {
        "colab": {
          "base_uri": "https://localhost:8080/"
        },
        "id": "npqo7O40HMwh",
        "outputId": "cd0f6c0c-5486-410a-8f73-636f8b36691a"
      },
      "execution_count": 11,
      "outputs": [
        {
          "output_type": "stream",
          "name": "stdout",
          "text": [
            "월: 3, 실제 정보량: 5508, 스클 예측값: 5800, 마클 예측값: 4740\n",
            "월: 5, 실제 정보량: 2984, 스클 예측값: 5000, 마클 예측값: 3900\n",
            "월: 7, 실제 정보량: 2446, 스클 예측값: 4200, 마클 예측값: 3060\n",
            "월: 9, 실제 정보량: 2906, 스클 예측값: 3400, 마클 예측값: 2220\n"
          ]
        }
      ]
    }
  ]
}
