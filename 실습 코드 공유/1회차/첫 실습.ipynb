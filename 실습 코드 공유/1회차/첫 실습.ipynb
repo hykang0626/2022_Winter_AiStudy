{
  "nbformat": 4,
  "nbformat_minor": 0,
  "metadata": {
    "colab": {
      "name": "3장 선형회귀.ipynb",
      "provenance": [],
      "authorship_tag": "ABX9TyONzFPN5XIpZxGcbb3yY5a+",
      "include_colab_link": true
    },
    "kernelspec": {
      "name": "python3",
      "display_name": "Python 3"
    },
    "language_info": {
      "name": "python"
    }
  },
  "cells": [
    {
      "cell_type": "markdown",
      "metadata": {
        "id": "view-in-github",
        "colab_type": "text"
      },
      "source": [
        "<a href=\"https://colab.research.google.com/github/RyuJungSoo/2022_winter_aistudy/blob/main/3%EC%9E%A5_%EC%84%A0%ED%98%95%ED%9A%8C%EA%B7%80.ipynb\" target=\"_parent\"><img src=\"https://colab.research.google.com/assets/colab-badge.svg\" alt=\"Open In Colab\"/></a>"
      ]
    },
    {
      "cell_type": "markdown",
      "source": [
        "최소 제곱"
      ],
      "metadata": {
        "id": "1v6y2gL0qHLD"
      }
    },
    {
      "cell_type": "code",
      "execution_count": 10,
      "metadata": {
        "id": "ONJYXgPSyNyD"
      },
      "outputs": [],
      "source": [
        "import numpy as np\n",
        "\n",
        "# x 값과 y 값\n",
        "x = [2,4,6,8]\n",
        "y = [81,93,91,97]"
      ]
    },
    {
      "cell_type": "code",
      "source": [
        "# mean - 모든 원소의 평균을 구하는 넘파이 함수\n",
        "\n",
        "# x와 y의 평균값\n",
        "mx = np.mean(x)\n",
        "my = np.mean(y)\n",
        "\n",
        "print(\"x의 평균값:\",mx)\n",
        "print(\"y의 평균값:\",my)"
      ],
      "metadata": {
        "colab": {
          "base_uri": "https://localhost:8080/"
        },
        "id": "eiom32_i2i9d",
        "outputId": "1a02875b-186d-4170-ba31-2c8a27db93b4"
      },
      "execution_count": 11,
      "outputs": [
        {
          "output_type": "stream",
          "name": "stdout",
          "text": [
            "x의 평균값: 5.0\n",
            "y의 평균값: 90.5\n"
          ]
        }
      ]
    },
    {
      "cell_type": "code",
      "source": [
        "# 기울기 공식의 분모\n",
        "divisor = sum([(i-mx)**2 for i in x])"
      ],
      "metadata": {
        "id": "6Y7iIs0k3l2M"
      },
      "execution_count": 12,
      "outputs": []
    },
    {
      "cell_type": "code",
      "source": [
        "# 기울기 공식의 분자\n",
        "def top(x,mx,y,my):\n",
        "  d = 0\n",
        "  for i in range(len(x)):\n",
        "    d += (x[i] - mx) * (y[i]-my)\n",
        "  return d\n",
        "dividend = top(x,mx,y,my)"
      ],
      "metadata": {
        "id": "28ndVmdQEIGA"
      },
      "execution_count": 13,
      "outputs": []
    },
    {
      "cell_type": "code",
      "source": [
        "print(\"분모:\",divisor)\n",
        "print(\"분자:\",dividend)"
      ],
      "metadata": {
        "colab": {
          "base_uri": "https://localhost:8080/"
        },
        "id": "06EEgIgVFk0L",
        "outputId": "c65c42a8-00d5-4fa1-f88d-f247842bc845"
      },
      "execution_count": 14,
      "outputs": [
        {
          "output_type": "stream",
          "name": "stdout",
          "text": [
            "분모: 20.0\n",
            "분자: 46.0\n"
          ]
        }
      ]
    },
    {
      "cell_type": "code",
      "source": [
        "# 기울기와 y절편 구하기\n",
        "a = dividend / divisor\n",
        "b = my - (mx*a)"
      ],
      "metadata": {
        "id": "K70HQ6nRE3P-"
      },
      "execution_count": 15,
      "outputs": []
    },
    {
      "cell_type": "code",
      "source": [
        "# 출력으로 확인\n",
        "print(\"기울기 a =\",a)\n",
        "print(\"y 절편 b =\",b)"
      ],
      "metadata": {
        "colab": {
          "base_uri": "https://localhost:8080/"
        },
        "id": "Mi0nFbmqF2WA",
        "outputId": "eaecd7dd-00e5-4828-d8b5-848c4466a49f"
      },
      "execution_count": 16,
      "outputs": [
        {
          "output_type": "stream",
          "name": "stdout",
          "text": [
            "기울기 a = 2.3\n",
            "y 절편 b = 79.0\n"
          ]
        }
      ]
    },
    {
      "cell_type": "markdown",
      "source": [
        "평균 제곱 오차"
      ],
      "metadata": {
        "id": "jynwR_HgqLo7"
      }
    },
    {
      "cell_type": "code",
      "source": [
        "import numpy as np"
      ],
      "metadata": {
        "id": "7pbZoYCOqrO3"
      },
      "execution_count": 17,
      "outputs": []
    },
    {
      "cell_type": "code",
      "source": [
        "# 기울기 a와 y 절편 b\n",
        "fake_a_b = [3, 76]"
      ],
      "metadata": {
        "id": "R6nibfeTqOAZ"
      },
      "execution_count": 18,
      "outputs": []
    },
    {
      "cell_type": "code",
      "source": [
        "# x, y의 데이터 값\n",
        "data = [[2,81],[4,93],[6,91],[8,97]]\n",
        "x = [i[0] for i in data]\n",
        "y = [i[1] for i in data]"
      ],
      "metadata": {
        "id": "ZCzmEOAgqoLP"
      },
      "execution_count": 19,
      "outputs": []
    },
    {
      "cell_type": "code",
      "source": [
        "# y = ax + b에 a와 b 값을 대입하여 결과를 출력하는 함수\n",
        "def predict(x):\n",
        "  return fake_a_b[0]*x + fake_a_b[1]"
      ],
      "metadata": {
        "id": "ZOSCMaUgrAx1"
      },
      "execution_count": 20,
      "outputs": []
    },
    {
      "cell_type": "code",
      "source": [
        "# MSE 함수\n",
        "def mse(y, y_hat):\n",
        "  return ((y-y_hat)**2).mean()"
      ],
      "metadata": {
        "id": "cba5idHprYvk"
      },
      "execution_count": 21,
      "outputs": []
    },
    {
      "cell_type": "code",
      "source": [
        "# MSE 함수를 각 y 값에 대입하여 최종 값을 구하는 함수\n",
        "# np.array를 써야 성분별 계산이 가능해짐\n",
        "\n",
        "def mse_val(y,predict_result):\n",
        "  return mse(np.array(y), np.array(predict_result))"
      ],
      "metadata": {
        "id": "UVJxa9N4rgBr"
      },
      "execution_count": 28,
      "outputs": []
    },
    {
      "cell_type": "code",
      "source": [
        "# 예측 값이 들어갈 빈 리스트\n",
        "predict_result = []\n",
        "\n",
        "# 모든 x 값을 한 번씩 대입하여\n",
        "for i in range(len(x)):\n",
        "  # 그 결과에 해당하는 predict_result 리스트를 완성\n",
        "  predict_result.append(predict(x[i]))\n",
        "  print(\"공부시간=%.f, 실제 점수=%.f 예측 점수=%.f\" % (x[i],y[i], predict(x[i])))"
      ],
      "metadata": {
        "colab": {
          "base_uri": "https://localhost:8080/"
        },
        "id": "KkIL64vxsaCo",
        "outputId": "57064f01-a580-46df-9d2c-e2c7891e160a"
      },
      "execution_count": 29,
      "outputs": [
        {
          "output_type": "stream",
          "name": "stdout",
          "text": [
            "공부시간=2, 실제 점수=81 예측 점수=82\n",
            "공부시간=4, 실제 점수=93 예측 점수=88\n",
            "공부시간=6, 실제 점수=91 예측 점수=94\n",
            "공부시간=8, 실제 점수=97 예측 점수=100\n"
          ]
        }
      ]
    },
    {
      "cell_type": "code",
      "source": [
        "# 최종 MSE 출력\n",
        "print(\"MSE 최종값: \"+str(mse_val(y,predict_result)))"
      ],
      "metadata": {
        "colab": {
          "base_uri": "https://localhost:8080/"
        },
        "id": "_T87fSYRtHWd",
        "outputId": "4b7a809b-af1b-481d-a56a-77a6c9f0a4d2"
      },
      "execution_count": 30,
      "outputs": [
        {
          "output_type": "stream",
          "name": "stdout",
          "text": [
            "MSE 최종값: 11.0\n"
          ]
        }
      ]
    }
  ]
}
