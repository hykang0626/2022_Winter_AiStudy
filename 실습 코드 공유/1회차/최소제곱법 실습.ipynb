{
 "cells": [
  {
   "cell_type": "markdown",
   "id": "c9a9dd2e",
   "metadata": {},
   "source": [
    "## 선형회귀 by. 최소 제곱법 "
   ]
  },
  {
   "cell_type": "code",
   "execution_count": 16,
   "id": "9c115c00",
   "metadata": {},
   "outputs": [],
   "source": [
    "# numpy 라이브러리 불러오기\n",
    "import numpy as np\n",
    "\n",
    "# 데이터 값 리스트 형식으로 정의\n",
    "x = [2,4,6,8]\n",
    "y = [81,93,91,97]"
   ]
  },
  {
   "cell_type": "code",
   "execution_count": 17,
   "id": "0f00b97c",
   "metadata": {},
   "outputs": [],
   "source": [
    "# 최소 제곱근 공식으로 기울기 a와 y 절편 b의 값 구하기\n",
    "# 모든 원소의 평균 구하는 함수 mean()\n",
    "mx = np.mean(x)\n",
    "my = np.mean(y)"
   ]
  },
  {
   "cell_type": "code",
   "execution_count": 18,
   "id": "a97d0424",
   "metadata": {},
   "outputs": [],
   "source": [
    "# 최소 제곱근 기울기 a 구하는 공식 중 분모 구하기\n",
    "# 본모 = (x의 각 원소-x의 평균)^2 의 합\n",
    "divisor = sum([(mx - i)**2 for i in x])"
   ]
  },
  {
   "cell_type": "code",
   "execution_count": 19,
   "id": "ad4cd2a7",
   "metadata": {},
   "outputs": [],
   "source": [
    "# 최소 제곱근 기울기 a 구하는 공식 중 분자 구하기\n",
    "# 본자 = (x 편차 * y 편차)의 합\n",
    "\n",
    "# 분자 구하는 함수 지정\n",
    "def top(x,mx,y,my):\n",
    "    d=0;\n",
    "    for i in range(len(x)):\n",
    "        d += (x[i] - mx)*(y[i] - my)\n",
    "    return  d\n",
    "dividend = top(x,mx,y,my)"
   ]
  },
  {
   "cell_type": "code",
   "execution_count": 20,
   "id": "6ef7a970",
   "metadata": {},
   "outputs": [
    {
     "name": "stdout",
     "output_type": "stream",
     "text": [
      "분모 =  20.0\n",
      "분자 =  46.0\n"
     ]
    }
   ],
   "source": [
    "# 결과 값 출력\n",
    "print(\"분모 = \",divisor)\n",
    "print(\"분자 = \",dividend)"
   ]
  },
  {
   "cell_type": "code",
   "execution_count": 21,
   "id": "cfce0159",
   "metadata": {},
   "outputs": [],
   "source": [
    "# 기울기 구하기\n",
    "a = dividend / divisor"
   ]
  },
  {
   "cell_type": "code",
   "execution_count": 22,
   "id": "710c8890",
   "metadata": {},
   "outputs": [],
   "source": [
    "# y 절편 b 구하기\n",
    "b = my - (mx*a)"
   ]
  },
  {
   "cell_type": "code",
   "execution_count": 23,
   "id": "191650e0",
   "metadata": {},
   "outputs": [
    {
     "name": "stdout",
     "output_type": "stream",
     "text": [
      "기울기 a = 2.3\n",
      "y 절편 b = 79.0\n"
     ]
    }
   ],
   "source": [
    "# 출력으로 확인\n",
    "print(\"기울기 a =\", a)\n",
    "print(\"y 절편 b =\", b)"
   ]
  }
 ],
 "metadata": {
  "kernelspec": {
   "display_name": "Python 3",
   "language": "python",
   "name": "python3"
  },
  "language_info": {
   "codemirror_mode": {
    "name": "ipython",
    "version": 3
   },
   "file_extension": ".py",
   "mimetype": "text/x-python",
   "name": "python",
   "nbconvert_exporter": "python",
   "pygments_lexer": "ipython3",
   "version": "3.8.8"
  }
 },
 "nbformat": 4,
 "nbformat_minor": 5
}
